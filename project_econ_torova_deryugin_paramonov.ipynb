{
 "cells": [
  {
   "cell_type": "markdown",
   "id": "ebebcdc7",
   "metadata": {},
   "source": [
    "# Зависимость социально-экономических показателей и показателей рождаемости в России для субъектов России в период с 2013 по 2022 годы\n",
    "\n",
    "\n"
   ]
  },
  {
   "cell_type": "markdown",
   "id": "95803e2e",
   "metadata": {},
   "source": [
    "\n",
    "\n",
    "\n",
    "\n",
    "\n",
    "Проект выполняют: Торова Анна, Дерюгин Тимофей, Парамонов Михаил.\n",
    "\n",
    "Мы исследуем зависимость социально-экономических показателей и показателей рождаемости для субъектов России в период с 2013 по 2022 годы.\n",
    "\n",
    "В качестве социально-экономических показателей мы выбрали реальную среднемесячную заработную плату для субъекта, регион, показатели безработицы, а также доля людей, находящихся за чертой бедности.\n",
    "\n",
    "Все данные были взяты с сайта Росстата. "
   ]
  },
  {
   "cell_type": "code",
   "execution_count": 342,
   "id": "740698b7",
   "metadata": {},
   "outputs": [],
   "source": [
    "import numpy as np\n",
    "import pandas as pd\n",
    "import matplotlib.pyplot as plt\n",
    "from itertools import product\n",
    "import seaborn as sns\n",
    "import openpyxl\n",
    "import sklearn\n",
    "from sklearn.model_selection import GridSearchCV\n",
    "from sklearn.ensemble import RandomForestRegressor\n",
    "from sklearn.model_selection import train_test_split\n",
    "from scipy.stats import probplot\n",
    "from statsmodels.graphics.tsaplots import plot_acf\n",
    "from sklearn.ensemble import RandomForestClassifier\n",
    "from sklearn.model_selection import train_test_split\n",
    "from sklearn.datasets import load_iris\n",
    "from statsmodels.stats.stattools import durbin_watson\n",
    "from sklearn.ensemble import IsolationForest\n",
    "from sklearn.linear_model import LinearRegression\n",
    "from sklearn.preprocessing import PowerTransformer\n",
    "from sklearn.model_selection import train_test_split\n",
    "from sklearn.metrics import mean_absolute_percentage_error, f1_score, mean_squared_error, r2_score\n",
    "import scipy.stats as sts\n",
    "from sklearn import preprocessing\n",
    "from wordcloud import WordCloud\n",
    "import requests\n",
    "from bs4 import BeautifulSoup\n",
    "from sklearn.linear_model import RidgeCV, LinearRegression, Lasso\n",
    "from sklearn.ensemble import RandomForestRegressor\n",
    "from sklearn.preprocessing import StandardScaler, PolynomialFeatures\n",
    "from sklearn.model_selection import GridSearchCV\n",
    "from sklearn.preprocessing import StandardScaler\n",
    "import warnings\n",
    "warnings.filterwarnings(\"ignore\")\n",
    "import lxml\n",
    "import html5lib"
   ]
  },
  {
   "cell_type": "markdown",
   "id": "55495ad7",
   "metadata": {},
   "source": [
    "## Сбор и преобразование данных"
   ]
  },
  {
   "cell_type": "markdown",
   "id": "6d7c40b1",
   "metadata": {},
   "source": [
    "Для начала подгрузим скачанные файлы в формате DataFrame и немного их подкорректируем. Nan заменим на средние значения по субъекту."
   ]
  },
  {
   "cell_type": "code",
   "execution_count": 343,
   "id": "dcdbe1fe",
   "metadata": {},
   "outputs": [],
   "source": [
    "poverty_df = pd.read_excel('Data_for_project/bednost-2013-2022 (1).xlsx')\n",
    "unemployment_df = pd.read_excel('Data_for_project/bezraboticca.xlsx')\n",
    "fertility_df = pd.read_excel('Data_for_project/fertility.xlsx')\n",
    "income_df = pd.read_excel('Data_for_project/zarplata.xlsx')\n",
    "\n",
    "poverty_df.columns = ['subject'] + [int(x) for x in poverty_df.loc[1][1:].tolist()]\n",
    "poverty_df.drop(labels=[0, 1], axis=0, inplace=True)\n",
    "poverty_df.set_index(poverty_df['subject'], inplace=True)\n",
    "poverty_df.drop(labels=['subject'], axis=1, inplace=True)\n",
    "poverty_df = poverty_df.fillna(poverty_df.mean(axis=1), axis=0)\n",
    "\n",
    "unemployment_df.set_index(unemployment_df['subject'], inplace=True)\n",
    "unemployment_df.drop(labels=['subject'], axis=1, inplace=True)\n",
    "unemployment_df = unemployment_df.fillna(unemployment_df.mean(axis=1), axis=0)\n",
    "\n",
    "fertility_df.columns = ['subject'] + [int(x) for x in fertility_df.loc[0][1:].tolist()]\n",
    "fertility_df.drop(labels=[0], axis=0, inplace=True)\n",
    "fertility_df.set_index(fertility_df['subject'], inplace=True)\n",
    "fertility_df.drop(labels=['subject'], axis=1, inplace=True)\n",
    "fertility_df = fertility_df.fillna(fertility_df.mean(axis=1), axis=0)\n",
    "\n",
    "income_df.set_index(income_df['subject'], inplace=True)\n",
    "income_df.drop(labels=['subject'], axis=1, inplace=True)\n",
    "income_df = income_df.fillna(income_df.mean(axis=1), axis=0)\n"
   ]
  },
  {
   "cell_type": "markdown",
   "id": "a6fcf0ef",
   "metadata": {},
   "source": [
    "\n",
    "Сведения о среднемесячных зарплатах приведены в номинальном выражении. Возьмем данные об инфляции за 2013-2022 годы и посчитаем зарплаты в реальном выражении по отношению к 2013 году. "
   ]
  },
  {
   "cell_type": "code",
   "execution_count": 344,
   "id": "9b9c43f4",
   "metadata": {},
   "outputs": [
    {
     "name": "stdout",
     "output_type": "stream",
     "text": [
      "[ 6.45 11.36 12.91  5.38  2.52  4.27  3.05  4.91  8.39 10.65]\n"
     ]
    }
   ],
   "source": [
    "#Здесь мы воспользовались помощью Chatgpt. Запрос был задан так: спарси по ссылке (...) инфляцию с 2013 по 2022 год на питоне\n",
    "response = requests.get('https://infotables.ru/statistika/79-ekonomicheskaya-statistika-rossii/1321-inflyatsiya-v-rossii-tablitsa')\n",
    "\n",
    "soup = BeautifulSoup(response.content, 'html.parser')\n",
    "\n",
    "table = soup.find('table')\n",
    "\n",
    "inflation_arr = np.array([])\n",
    "data_rows_raw= table.tbody.find_all('tr')\n",
    "\n",
    "for row in data_rows_raw[1:]:\n",
    "    cols=row.find_all('td')\n",
    "    cols=[x.text.strip() for x in cols]\n",
    "    \n",
    "    year=int(cols[0])\n",
    "    \n",
    "    if year>=2013 and year<=2022:        \n",
    "        inflation=float(cols[1].replace(',','.'))\n",
    "        inflation_arr = np.append(inflation_arr, inflation)\n",
    "        \n",
    "inflation_arr = inflation_arr[::-1]\n",
    "print(inflation_arr)"
   ]
  },
  {
   "cell_type": "markdown",
   "id": "20742ae1",
   "metadata": {},
   "source": [
    "Далее считаем индекс-дефлятор, который показывает цену рубля в реальном выражении на определенный год по отношению к базовому году. Домножаем значение зарплаты каждого года на соответствующий коэффициент"
   ]
  },
  {
   "cell_type": "code",
   "execution_count": 345,
   "id": "66bc2e06",
   "metadata": {},
   "outputs": [
    {
     "data": {
      "text/html": [
       "<div>\n",
       "<style scoped>\n",
       "    .dataframe tbody tr th:only-of-type {\n",
       "        vertical-align: middle;\n",
       "    }\n",
       "\n",
       "    .dataframe tbody tr th {\n",
       "        vertical-align: top;\n",
       "    }\n",
       "\n",
       "    .dataframe thead th {\n",
       "        text-align: right;\n",
       "    }\n",
       "</style>\n",
       "<table border=\"1\" class=\"dataframe\">\n",
       "  <thead>\n",
       "    <tr style=\"text-align: right;\">\n",
       "      <th></th>\n",
       "      <th>2013</th>\n",
       "      <th>2014</th>\n",
       "      <th>2015</th>\n",
       "      <th>2016</th>\n",
       "      <th>2017</th>\n",
       "      <th>2018</th>\n",
       "      <th>2019</th>\n",
       "      <th>2020</th>\n",
       "      <th>2021</th>\n",
       "      <th>2022</th>\n",
       "    </tr>\n",
       "    <tr>\n",
       "      <th>subject</th>\n",
       "      <th></th>\n",
       "      <th></th>\n",
       "      <th></th>\n",
       "      <th></th>\n",
       "      <th></th>\n",
       "      <th></th>\n",
       "      <th></th>\n",
       "      <th></th>\n",
       "      <th></th>\n",
       "      <th></th>\n",
       "    </tr>\n",
       "  </thead>\n",
       "  <tbody>\n",
       "    <tr>\n",
       "      <th>Белгородская область</th>\n",
       "      <td>20381.2</td>\n",
       "      <td>21097.980272</td>\n",
       "      <td>20099.251983</td>\n",
       "      <td>18255.004393</td>\n",
       "      <td>19532.726326</td>\n",
       "      <td>20260.923148</td>\n",
       "      <td>21129.296974</td>\n",
       "      <td>22906.242426</td>\n",
       "      <td>23190.776212</td>\n",
       "      <td>24812.928957</td>\n",
       "    </tr>\n",
       "    <tr>\n",
       "      <th>Брянская область</th>\n",
       "      <td>16773.9</td>\n",
       "      <td>17740.347581</td>\n",
       "      <td>16676.688370</td>\n",
       "      <td>15621.691040</td>\n",
       "      <td>16048.058374</td>\n",
       "      <td>16981.636339</td>\n",
       "      <td>17792.104319</td>\n",
       "      <td>18967.130241</td>\n",
       "      <td>19163.820579</td>\n",
       "      <td>20389.736209</td>\n",
       "    </tr>\n",
       "    <tr>\n",
       "      <th>Владимирская область</th>\n",
       "      <td>18379.5</td>\n",
       "      <td>19419.915453</td>\n",
       "      <td>18750.539890</td>\n",
       "      <td>17246.312242</td>\n",
       "      <td>17498.552797</td>\n",
       "      <td>19321.137931</td>\n",
       "      <td>20706.220241</td>\n",
       "      <td>20777.394413</td>\n",
       "      <td>20740.714100</td>\n",
       "      <td>21165.035883</td>\n",
       "    </tr>\n",
       "    <tr>\n",
       "      <th>Воронежская область</th>\n",
       "      <td>19667.8</td>\n",
       "      <td>20389.948333</td>\n",
       "      <td>19483.440232</td>\n",
       "      <td>17710.052127</td>\n",
       "      <td>17963.387906</td>\n",
       "      <td>19343.633398</td>\n",
       "      <td>20171.521289</td>\n",
       "      <td>21081.239728</td>\n",
       "      <td>21484.744780</td>\n",
       "      <td>22942.655746</td>\n",
       "    </tr>\n",
       "    <tr>\n",
       "      <th>Ивановская область</th>\n",
       "      <td>16529.6</td>\n",
       "      <td>17727.383748</td>\n",
       "      <td>17079.749815</td>\n",
       "      <td>14920.813988</td>\n",
       "      <td>14516.620331</td>\n",
       "      <td>16113.258036</td>\n",
       "      <td>16389.232546</td>\n",
       "      <td>17001.307049</td>\n",
       "      <td>16711.733977</td>\n",
       "      <td>17479.504155</td>\n",
       "    </tr>\n",
       "    <tr>\n",
       "      <th>...</th>\n",
       "      <td>...</td>\n",
       "      <td>...</td>\n",
       "      <td>...</td>\n",
       "      <td>...</td>\n",
       "      <td>...</td>\n",
       "      <td>...</td>\n",
       "      <td>...</td>\n",
       "      <td>...</td>\n",
       "      <td>...</td>\n",
       "      <td>...</td>\n",
       "    </tr>\n",
       "    <tr>\n",
       "      <th>Амурская область</th>\n",
       "      <td>28486.7</td>\n",
       "      <td>28071.019258</td>\n",
       "      <td>24623.865557</td>\n",
       "      <td>22729.081930</td>\n",
       "      <td>23211.685543</td>\n",
       "      <td>26172.886954</td>\n",
       "      <td>28249.839545</td>\n",
       "      <td>31084.836651</td>\n",
       "      <td>32144.297133</td>\n",
       "      <td>33721.630482</td>\n",
       "    </tr>\n",
       "    <tr>\n",
       "      <th>Магаданская область</th>\n",
       "      <td>52403.2</td>\n",
       "      <td>51547.393142</td>\n",
       "      <td>48853.780308</td>\n",
       "      <td>42673.483179</td>\n",
       "      <td>43241.476410</td>\n",
       "      <td>50698.291527</td>\n",
       "      <td>52976.913667</td>\n",
       "      <td>56605.011210</td>\n",
       "      <td>59952.137084</td>\n",
       "      <td>52694.172316</td>\n",
       "    </tr>\n",
       "    <tr>\n",
       "      <th>Сахалинская область</th>\n",
       "      <td>44705.6</td>\n",
       "      <td>46910.474401</td>\n",
       "      <td>48905.829055</td>\n",
       "      <td>51838.752495</td>\n",
       "      <td>51158.199596</td>\n",
       "      <td>52081.181240</td>\n",
       "      <td>56104.988758</td>\n",
       "      <td>60759.923722</td>\n",
       "      <td>59467.977278</td>\n",
       "      <td>59422.944875</td>\n",
       "    </tr>\n",
       "    <tr>\n",
       "      <th>Еврейская авт.область</th>\n",
       "      <td>25716.7</td>\n",
       "      <td>26207.045561</td>\n",
       "      <td>23604.401856</td>\n",
       "      <td>22143.411404</td>\n",
       "      <td>21947.726662</td>\n",
       "      <td>24406.644560</td>\n",
       "      <td>25213.953929</td>\n",
       "      <td>27035.796951</td>\n",
       "      <td>27052.766599</td>\n",
       "      <td>27539.665497</td>\n",
       "    </tr>\n",
       "    <tr>\n",
       "      <th>Чукотский авт.округ</th>\n",
       "      <td>65699.1</td>\n",
       "      <td>67570.314702</td>\n",
       "      <td>61394.660085</td>\n",
       "      <td>56626.472699</td>\n",
       "      <td>56784.097419</td>\n",
       "      <td>62312.462872</td>\n",
       "      <td>63502.829310</td>\n",
       "      <td>67663.860787</td>\n",
       "      <td>73749.341907</td>\n",
       "      <td>68354.682388</td>\n",
       "    </tr>\n",
       "  </tbody>\n",
       "</table>\n",
       "<p>82 rows × 10 columns</p>\n",
       "</div>"
      ],
      "text/plain": [
       "                          2013          2014          2015          2016  \\\n",
       "subject                                                                    \n",
       "Белгородская область   20381.2  21097.980272  20099.251983  18255.004393   \n",
       "Брянская область       16773.9  17740.347581  16676.688370  15621.691040   \n",
       "Владимирская область   18379.5  19419.915453  18750.539890  17246.312242   \n",
       "Воронежская область    19667.8  20389.948333  19483.440232  17710.052127   \n",
       "Ивановская область     16529.6  17727.383748  17079.749815  14920.813988   \n",
       "...                        ...           ...           ...           ...   \n",
       "Амурская область       28486.7  28071.019258  24623.865557  22729.081930   \n",
       "Магаданская область    52403.2  51547.393142  48853.780308  42673.483179   \n",
       "Сахалинская область    44705.6  46910.474401  48905.829055  51838.752495   \n",
       "Еврейская авт.область  25716.7  26207.045561  23604.401856  22143.411404   \n",
       "Чукотский авт.округ    65699.1  67570.314702  61394.660085  56626.472699   \n",
       "\n",
       "                               2017          2018          2019          2020  \\\n",
       "subject                                                                         \n",
       "Белгородская область   19532.726326  20260.923148  21129.296974  22906.242426   \n",
       "Брянская область       16048.058374  16981.636339  17792.104319  18967.130241   \n",
       "Владимирская область   17498.552797  19321.137931  20706.220241  20777.394413   \n",
       "Воронежская область    17963.387906  19343.633398  20171.521289  21081.239728   \n",
       "Ивановская область     14516.620331  16113.258036  16389.232546  17001.307049   \n",
       "...                             ...           ...           ...           ...   \n",
       "Амурская область       23211.685543  26172.886954  28249.839545  31084.836651   \n",
       "Магаданская область    43241.476410  50698.291527  52976.913667  56605.011210   \n",
       "Сахалинская область    51158.199596  52081.181240  56104.988758  60759.923722   \n",
       "Еврейская авт.область  21947.726662  24406.644560  25213.953929  27035.796951   \n",
       "Чукотский авт.округ    56784.097419  62312.462872  63502.829310  67663.860787   \n",
       "\n",
       "                               2021          2022  \n",
       "subject                                            \n",
       "Белгородская область   23190.776212  24812.928957  \n",
       "Брянская область       19163.820579  20389.736209  \n",
       "Владимирская область   20740.714100  21165.035883  \n",
       "Воронежская область    21484.744780  22942.655746  \n",
       "Ивановская область     16711.733977  17479.504155  \n",
       "...                             ...           ...  \n",
       "Амурская область       32144.297133  33721.630482  \n",
       "Магаданская область    59952.137084  52694.172316  \n",
       "Сахалинская область    59467.977278  59422.944875  \n",
       "Еврейская авт.область  27052.766599  27539.665497  \n",
       "Чукотский авт.округ    73749.341907  68354.682388  \n",
       "\n",
       "[82 rows x 10 columns]"
      ]
     },
     "execution_count": 345,
     "metadata": {},
     "output_type": "execute_result"
    }
   ],
   "source": [
    "index_deflator = np.array([1])\n",
    "\n",
    "for i in range(9):\n",
    "    index_deflator = np.append(index_deflator, index_deflator[-1]/(1+inflation_arr[i]/100))\n",
    "\n",
    "income_df = income_df.mul(index_deflator, axis=1)\n",
    "\n",
    "income_df"
   ]
  },
  {
   "cell_type": "markdown",
   "id": "621666d0",
   "metadata": {},
   "source": [
    "Из текущих \"сырых\" таблиц теперь надо сделать одну большую. Ее колонками будут: год, регион, реальная зарплата, доля людей за чертой бедности, безработица и, конечно, рождаемость"
   ]
  },
  {
   "cell_type": "code",
   "execution_count": 346,
   "id": "9c80ad26",
   "metadata": {},
   "outputs": [
    {
     "data": {
      "text/html": [
       "<div>\n",
       "<style scoped>\n",
       "    .dataframe tbody tr th:only-of-type {\n",
       "        vertical-align: middle;\n",
       "    }\n",
       "\n",
       "    .dataframe tbody tr th {\n",
       "        vertical-align: top;\n",
       "    }\n",
       "\n",
       "    .dataframe thead th {\n",
       "        text-align: right;\n",
       "    }\n",
       "</style>\n",
       "<table border=\"1\" class=\"dataframe\">\n",
       "  <thead>\n",
       "    <tr style=\"text-align: right;\">\n",
       "      <th></th>\n",
       "      <th>income</th>\n",
       "      <th>unemployment</th>\n",
       "      <th>fertility</th>\n",
       "      <th>poverty</th>\n",
       "    </tr>\n",
       "    <tr>\n",
       "      <th>Subject and year</th>\n",
       "      <th></th>\n",
       "      <th></th>\n",
       "      <th></th>\n",
       "      <th></th>\n",
       "    </tr>\n",
       "  </thead>\n",
       "  <tbody>\n",
       "    <tr>\n",
       "      <th>Белгородская область, 2013</th>\n",
       "      <td>20381.200000</td>\n",
       "      <td>4.0</td>\n",
       "      <td>1.526</td>\n",
       "      <td>0.075979</td>\n",
       "    </tr>\n",
       "    <tr>\n",
       "      <th>Белгородская область, 2014</th>\n",
       "      <td>21097.980272</td>\n",
       "      <td>4.0</td>\n",
       "      <td>1.544</td>\n",
       "      <td>0.077480</td>\n",
       "    </tr>\n",
       "    <tr>\n",
       "      <th>Белгородская область, 2015</th>\n",
       "      <td>20099.251983</td>\n",
       "      <td>4.1</td>\n",
       "      <td>1.561</td>\n",
       "      <td>0.085901</td>\n",
       "    </tr>\n",
       "    <tr>\n",
       "      <th>Белгородская область, 2016</th>\n",
       "      <td>18255.004393</td>\n",
       "      <td>4.0</td>\n",
       "      <td>1.547</td>\n",
       "      <td>0.081919</td>\n",
       "    </tr>\n",
       "    <tr>\n",
       "      <th>Белгородская область, 2017</th>\n",
       "      <td>19532.726326</td>\n",
       "      <td>3.9</td>\n",
       "      <td>1.389</td>\n",
       "      <td>0.078786</td>\n",
       "    </tr>\n",
       "  </tbody>\n",
       "</table>\n",
       "</div>"
      ],
      "text/plain": [
       "                                  income  unemployment  fertility   poverty\n",
       "Subject and year                                                           \n",
       "Белгородская область, 2013  20381.200000           4.0      1.526  0.075979\n",
       "Белгородская область, 2014  21097.980272           4.0      1.544  0.077480\n",
       "Белгородская область, 2015  20099.251983           4.1      1.561  0.085901\n",
       "Белгородская область, 2016  18255.004393           4.0      1.547  0.081919\n",
       "Белгородская область, 2017  19532.726326           3.9      1.389  0.078786"
      ]
     },
     "execution_count": 346,
     "metadata": {},
     "output_type": "execute_result"
    }
   ],
   "source": [
    "#Здесь мы опять воспользовались помощью Chatgpt. Необходимо было из датафрейма 82*10 (субъектов*количество лет) \n",
    "#получить датафрейм (2*820), где одним столбцом будут год+регион, а вторым - признак (безработица или зарплата итд)\n",
    "#Запросов было много, потому что он постоянно разделял год и регион и в новом датафрейме получалось много столбцов\n",
    "#Итоговый запрос был таким: Есть датафрейм, столбцы - годы, индексы - субъекты РФ. Значениями таблицы является зарплата. \n",
    "#Необходимо создать датафрейм с двумя \n",
    "#колонками, в первой будет указана зарплата, во второй - вместе Субъект РФ и год\n",
    "\n",
    "def df_remake(df, priznak):\n",
    "    df_stacked = df.stack()\n",
    "    df_stacked = df_stacked.reset_index()\n",
    "    df_stacked = df_stacked.rename(columns={'level_0': 'subject', 'level_1': 'Year', 0: priznak})\n",
    "    df_stacked['Subject and year'] = df_stacked['subject'] + ', ' + df_stacked['Year'].astype(str)\n",
    "    df_result = df_stacked[[priznak, 'Subject and year']].set_index('Subject and year')\n",
    "\n",
    "    return df_result\n",
    "\n",
    "income_df = df_remake(income_df, 'income')\n",
    "unemployment_df = df_remake(unemployment_df, 'unemployment')\n",
    "fertility_df = df_remake(fertility_df, 'fertility')\n",
    "poverty_df = df_remake(poverty_df, 'poverty') \n",
    "\n",
    "new_df = income_df.merge(unemployment_df, left_index=True, right_index=True)\\\n",
    "               .merge(fertility_df, left_index=True, right_index=True)\\\n",
    "               .merge(poverty_df, left_index=True, right_index=True)\n",
    "\n",
    "new_df.head()\n"
   ]
  },
  {
   "cell_type": "markdown",
   "id": "ff58154b",
   "metadata": {},
   "source": [
    "## EDA анализ"
   ]
  },
  {
   "cell_type": "markdown",
   "id": "af08e9b4",
   "metadata": {},
   "source": [
    "Мы получили таблицу с 4 признаками для каждого региона и года. Теперь проведем EDA анализ"
   ]
  },
  {
   "cell_type": "code",
   "execution_count": 347,
   "id": "34163101",
   "metadata": {},
   "outputs": [],
   "source": [
    "def EDA(df, priznak):\n",
    "    print(df[priznak].describe())\n",
    "    plt.hist(df[priznak], bins=30)\n",
    "    plt.title(priznak)\n",
    "    plt.show()\n",
    "    if priznak != 'fertility':\n",
    "        plt.scatter(df[priznak], df['fertility'])\n",
    "        plt.xlabel(priznak)\n",
    "        plt.ylabel('fertility')\n",
    "        plt.show()"
   ]
  },
  {
   "cell_type": "markdown",
   "id": "9b9e271b",
   "metadata": {},
   "source": [
    "Рассматривая такой показатель, как реальная зарплата, можно отметить, что она имеет довольно большой разброс.Максимальный показатель з/п в три раза превышает средний. Что касается связи зарплаты и коэффициента рождаемости, наблюдается слабая зависимость."
   ]
  },
  {
   "cell_type": "code",
   "execution_count": 348,
   "id": "9a604f1c",
   "metadata": {},
   "outputs": [
    {
     "name": "stdout",
     "output_type": "stream",
     "text": [
      "count      816.000000\n",
      "mean     24103.497118\n",
      "std       9571.660934\n",
      "min      13285.807763\n",
      "25%      18133.001750\n",
      "50%      21113.514164\n",
      "75%      25957.920239\n",
      "max      73749.341907\n",
      "Name: income, dtype: float64\n"
     ]
    },
    {
     "data": {
      "image/png": "[encoded data removed]",
      "text/plain": [
       "<Figure size 640x480 with 1 Axes>"
      ]
     },
     "metadata": {},
     "output_type": "display_data"
    },
    {
     "data": {
      "image/png": "[encoded data removed]",
      "text/plain": [
       "<Figure size 640x480 with 1 Axes>"
      ]
     },
     "metadata": {},
     "output_type": "display_data"
    }
   ],
   "source": [
    "EDA(new_df, 'income')"
   ]
  },
  {
   "cell_type": "markdown",
   "id": "35f94f87",
   "metadata": {},
   "source": [
    "Ситуация с безработицей похожа: она распределена неравномерно и имеет большой разброс. Однако, в отличие от зарплат, наблюдается более сильная положительная связь с рождаемостью"
   ]
  },
  {
   "cell_type": "code",
   "execution_count": 349,
   "id": "ffd27b3c",
   "metadata": {},
   "outputs": [
    {
     "name": "stdout",
     "output_type": "stream",
     "text": [
      "count    816.000000\n",
      "mean       6.324632\n",
      "std        3.981351\n",
      "min        1.200000\n",
      "25%        4.200000\n",
      "50%        5.300000\n",
      "75%        7.000000\n",
      "max       43.700000\n",
      "Name: unemployment, dtype: float64\n"
     ]
    },
    {
     "data": {
      "image/png": "[encoded data removed]",
      "text/plain": [
       "<Figure size 640x480 with 1 Axes>"
      ]
     },
     "metadata": {},
     "output_type": "display_data"
    },
    {
     "data": {
      "image/png": "[encoded data removed]",
      "text/plain": [
       "<Figure size 640x480 with 1 Axes>"
      ]
     },
     "metadata": {},
     "output_type": "display_data"
    }
   ],
   "source": [
    "EDA(new_df, 'unemployment')"
   ]
  },
  {
   "cell_type": "markdown",
   "id": "098d7be8",
   "metadata": {},
   "source": [
    "Бедность имеет больший разброс - гистограмма более сплюснута. Диаграмма рассеяния \n",
    "также свидетельствует о положительной взаимосвязи с рождаемостью"
   ]
  },
  {
   "cell_type": "code",
   "execution_count": 350,
   "id": "ffb021eb",
   "metadata": {},
   "outputs": [
    {
     "name": "stdout",
     "output_type": "stream",
     "text": [
      "count    816.000000\n",
      "mean       0.143952\n",
      "std        0.050045\n",
      "min        0.045007\n",
      "25%        0.110300\n",
      "50%        0.139342\n",
      "75%        0.168554\n",
      "max        0.359337\n",
      "Name: poverty, dtype: float64\n"
     ]
    },
    {
     "data": {
      "image/png": "[encoded data removed]",
      "text/plain": [
       "<Figure size 640x480 with 1 Axes>"
      ]
     },
     "metadata": {},
     "output_type": "display_data"
    },
    {
     "data": {
      "image/png": "[encoded data removed]",
      "text/plain": [
       "<Figure size 640x480 with 1 Axes>"
      ]
     },
     "metadata": {},
     "output_type": "display_data"
    }
   ],
   "source": [
    "EDA(new_df, 'poverty')"
   ]
  },
  {
   "cell_type": "markdown",
   "id": "d9b7d0a0",
   "metadata": {},
   "source": [
    "Рождаемость имеет меньший разброс. Гистрограммы четырех показателей очень похожи - они имеют характерный пик и чем-то напоминают нормальное распереление."
   ]
  },
  {
   "cell_type": "code",
   "execution_count": 351,
   "id": "7fab1e11",
   "metadata": {},
   "outputs": [
    {
     "name": "stdout",
     "output_type": "stream",
     "text": [
      "count    816.000000\n",
      "mean       1.648604\n",
      "std        0.322276\n",
      "min        0.871000\n",
      "25%        1.444000\n",
      "50%        1.599500\n",
      "75%        1.803000\n",
      "max        3.485000\n",
      "Name: fertility, dtype: float64\n"
     ]
    },
    {
     "data": {
      "image/png": "[encoded data removed]",
      "text/plain": [
       "<Figure size 640x480 with 1 Axes>"
      ]
     },
     "metadata": {},
     "output_type": "display_data"
    }
   ],
   "source": [
    "EDA(new_df, 'fertility')"
   ]
  },
  {
   "cell_type": "markdown",
   "id": "bb082055",
   "metadata": {},
   "source": [
    "Как видно из матрицы корреляции, между рождаемостью и бедностью, а также между рождаемостью и безработицей наблюдается значимая положительная связь."
   ]
  },
  {
   "cell_type": "code",
   "execution_count": 352,
   "id": "09bc0249",
   "metadata": {},
   "outputs": [
    {
     "data": {
      "text/html": [
       "<div>\n",
       "<style scoped>\n",
       "    .dataframe tbody tr th:only-of-type {\n",
       "        vertical-align: middle;\n",
       "    }\n",
       "\n",
       "    .dataframe tbody tr th {\n",
       "        vertical-align: top;\n",
       "    }\n",
       "\n",
       "    .dataframe thead th {\n",
       "        text-align: right;\n",
       "    }\n",
       "</style>\n",
       "<table border=\"1\" class=\"dataframe\">\n",
       "  <thead>\n",
       "    <tr style=\"text-align: right;\">\n",
       "      <th></th>\n",
       "      <th>income</th>\n",
       "      <th>unemployment</th>\n",
       "      <th>fertility</th>\n",
       "      <th>poverty</th>\n",
       "    </tr>\n",
       "  </thead>\n",
       "  <tbody>\n",
       "    <tr>\n",
       "      <th>income</th>\n",
       "      <td>1.000000</td>\n",
       "      <td>-0.225619</td>\n",
       "      <td>0.046948</td>\n",
       "      <td>-0.322596</td>\n",
       "    </tr>\n",
       "    <tr>\n",
       "      <th>unemployment</th>\n",
       "      <td>-0.225619</td>\n",
       "      <td>1.000000</td>\n",
       "      <td>0.529356</td>\n",
       "      <td>0.621222</td>\n",
       "    </tr>\n",
       "    <tr>\n",
       "      <th>fertility</th>\n",
       "      <td>0.046948</td>\n",
       "      <td>0.529356</td>\n",
       "      <td>1.000000</td>\n",
       "      <td>0.489319</td>\n",
       "    </tr>\n",
       "    <tr>\n",
       "      <th>poverty</th>\n",
       "      <td>-0.322596</td>\n",
       "      <td>0.621222</td>\n",
       "      <td>0.489319</td>\n",
       "      <td>1.000000</td>\n",
       "    </tr>\n",
       "  </tbody>\n",
       "</table>\n",
       "</div>"
      ],
      "text/plain": [
       "                income  unemployment  fertility   poverty\n",
       "income        1.000000     -0.225619   0.046948 -0.322596\n",
       "unemployment -0.225619      1.000000   0.529356  0.621222\n",
       "fertility     0.046948      0.529356   1.000000  0.489319\n",
       "poverty      -0.322596      0.621222   0.489319  1.000000"
      ]
     },
     "execution_count": 352,
     "metadata": {},
     "output_type": "execute_result"
    }
   ],
   "source": [
    "new_df.corr()"
   ]
  },
  {
   "cell_type": "markdown",
   "id": "8da7c4cf",
   "metadata": {},
   "source": [
    "## Создание новых признаков"
   ]
  },
  {
   "cell_type": "markdown",
   "id": "73099875",
   "metadata": {},
   "source": [
    "Среди выбранных факторов возможное наличие положительной связи с рождаемостью показали безработица и бедность. Связь рождаемости и реальных зарплат оказалась незначительной. \n",
    "\n",
    "Поэтому заработную плату как фактор мы решили заменить на темп прироста зарплаты: он будет лучше отражать экономические настроения и ожидания граждан, что играет определенную роль в рождаемости.\n",
    "\n",
    "Территориальная составляющая, как подсказывает интуиция, очень важна в плане демографии. Однако иметь 85 вариантов у категориального признака (85 субъектов) может привести к переобучению модели. Куда логичнее будет рассмотреть, например, регионы , в которых находятся наши субъекты. Пусть это и будет нашим категориальным признаком."
   ]
  },
  {
   "cell_type": "markdown",
   "id": "16578b0f",
   "metadata": {},
   "source": [
    "#### Темп прироста реальных зарплат"
   ]
  },
  {
   "cell_type": "markdown",
   "id": "3da2e6a1",
   "metadata": {},
   "source": [
    "Наше исследование покрывает период с 2013 по 2022 года. Для того, чтобы ввести темп прироста реальных заработных плат, нам придется пожертвовать 2013 годом как базовым."
   ]
  },
  {
   "cell_type": "code",
   "execution_count": 353,
   "id": "086a20a3",
   "metadata": {},
   "outputs": [],
   "source": [
    "new_df['income growth rate'] = 0\n",
    "\n",
    "for i in new_df.index:\n",
    "\n",
    "    if i[-4:] != '2013':\n",
    "        try:\n",
    "            s = i[:-4] + str(int(i[-4:]) - 1)\n",
    "            new_df.loc[i, 'income growth rate'] = new_df.loc[i, 'income']/new_df.loc[s, 'income'] - 1\n",
    "        except KeyError:\n",
    "            new_df.loc[i, 'income growth rate'] = 0\n",
    "    "
   ]
  },
  {
   "cell_type": "markdown",
   "id": "b1276656",
   "metadata": {},
   "source": [
    "Теперь требуется визуализировать новый признак, посчитать его корреляцию с рождаемостью"
   ]
  },
  {
   "cell_type": "code",
   "execution_count": 355,
   "id": "ae46bd2c",
   "metadata": {},
   "outputs": [
    {
     "name": "stdout",
     "output_type": "stream",
     "text": [
      "count    816.000000\n",
      "mean       0.015200\n",
      "std        0.072150\n",
      "min       -0.390553\n",
      "25%       -0.014975\n",
      "50%        0.017357\n",
      "75%        0.054783\n",
      "max        0.918149\n",
      "Name: income growth rate, dtype: float64\n"
     ]
    },
    {
     "data": {
      "image/png": "[encoded data removed]",
      "text/plain": [
       "<Figure size 640x480 with 1 Axes>"
      ]
     },
     "metadata": {},
     "output_type": "display_data"
    },
    {
     "data": {
      "image/png": "[encoded data removed]",
      "text/plain": [
       "<Figure size 640x480 with 1 Axes>"
      ]
     },
     "metadata": {},
     "output_type": "display_data"
    }
   ],
   "source": [
    "EDA(new_df, 'income growth rate')"
   ]
  },
  {
   "cell_type": "markdown",
   "id": "9c20b95d",
   "metadata": {},
   "source": [
    "Темп прироста реальных зарплат слабо рассеян. Наблюдается слабая отрицательная связь с рождаемостью."
   ]
  },
  {
   "cell_type": "code",
   "execution_count": 356,
   "id": "1fe31fe4",
   "metadata": {},
   "outputs": [
    {
     "data": {
      "text/html": [
       "<div>\n",
       "<style scoped>\n",
       "    .dataframe tbody tr th:only-of-type {\n",
       "        vertical-align: middle;\n",
       "    }\n",
       "\n",
       "    .dataframe tbody tr th {\n",
       "        vertical-align: top;\n",
       "    }\n",
       "\n",
       "    .dataframe thead th {\n",
       "        text-align: right;\n",
       "    }\n",
       "</style>\n",
       "<table border=\"1\" class=\"dataframe\">\n",
       "  <thead>\n",
       "    <tr style=\"text-align: right;\">\n",
       "      <th></th>\n",
       "      <th>income</th>\n",
       "      <th>unemployment</th>\n",
       "      <th>fertility</th>\n",
       "      <th>poverty</th>\n",
       "      <th>income growth rate</th>\n",
       "    </tr>\n",
       "  </thead>\n",
       "  <tbody>\n",
       "    <tr>\n",
       "      <th>income</th>\n",
       "      <td>1.000000</td>\n",
       "      <td>-0.225619</td>\n",
       "      <td>0.046948</td>\n",
       "      <td>-0.322596</td>\n",
       "      <td>0.091943</td>\n",
       "    </tr>\n",
       "    <tr>\n",
       "      <th>unemployment</th>\n",
       "      <td>-0.225619</td>\n",
       "      <td>1.000000</td>\n",
       "      <td>0.529356</td>\n",
       "      <td>0.621222</td>\n",
       "      <td>-0.053593</td>\n",
       "    </tr>\n",
       "    <tr>\n",
       "      <th>fertility</th>\n",
       "      <td>0.046948</td>\n",
       "      <td>0.529356</td>\n",
       "      <td>1.000000</td>\n",
       "      <td>0.489319</td>\n",
       "      <td>-0.179994</td>\n",
       "    </tr>\n",
       "    <tr>\n",
       "      <th>poverty</th>\n",
       "      <td>-0.322596</td>\n",
       "      <td>0.621222</td>\n",
       "      <td>0.489319</td>\n",
       "      <td>1.000000</td>\n",
       "      <td>-0.071951</td>\n",
       "    </tr>\n",
       "    <tr>\n",
       "      <th>income growth rate</th>\n",
       "      <td>0.091943</td>\n",
       "      <td>-0.053593</td>\n",
       "      <td>-0.179994</td>\n",
       "      <td>-0.071951</td>\n",
       "      <td>1.000000</td>\n",
       "    </tr>\n",
       "  </tbody>\n",
       "</table>\n",
       "</div>"
      ],
      "text/plain": [
       "                      income  unemployment  fertility   poverty  \\\n",
       "income              1.000000     -0.225619   0.046948 -0.322596   \n",
       "unemployment       -0.225619      1.000000   0.529356  0.621222   \n",
       "fertility           0.046948      0.529356   1.000000  0.489319   \n",
       "poverty            -0.322596      0.621222   0.489319  1.000000   \n",
       "income growth rate  0.091943     -0.053593  -0.179994 -0.071951   \n",
       "\n",
       "                    income growth rate  \n",
       "income                        0.091943  \n",
       "unemployment                 -0.053593  \n",
       "fertility                    -0.179994  \n",
       "poverty                      -0.071951  \n",
       "income growth rate            1.000000  "
      ]
     },
     "execution_count": 356,
     "metadata": {},
     "output_type": "execute_result"
    }
   ],
   "source": [
    "new_df.corr()"
   ]
  },
  {
   "cell_type": "markdown",
   "id": "86d210b6",
   "metadata": {},
   "source": [
    "Теперь мы построили новую матрицу корреляций. Корреляция между рождаемостью и темпом прироста зарплат отрицательная и довольно слабая, однако этот показатель в 3 раза выше, чем корреляция с зарплатами. В таком случае, темп прироста з/п будет одним из признаков в дальнейшем МО."
   ]
  },
  {
   "cell_type": "markdown",
   "id": "713a50b1",
   "metadata": {},
   "source": [
    "Оценка темпов прироста показалась нам довольно интересным показателем. Возможно, на качество исследования повлияет также оценка темпов прироста безработицы и бедности. Найдем эти показатели. Их значимость мы оценим, в первую очередь, корреляционным методом, а впоследствии посмотрим, насколько они между собой связаны. Если окажется так, что темпы прироста безработицы, бедности и реальных доходов по модулю схожи, то мы оставим только один из них. Это и ляжет в основу гипотезы, исследование которой в дальнейшем скажется на качестве модели.\n",
    "Для начала запишем функцию, которая будет строить темпы приростов:"
   ]
  },
  {
   "cell_type": "markdown",
   "id": "07055872",
   "metadata": {},
   "source": [
    "Теперь добавим новые признаки"
   ]
  },
  {
   "cell_type": "code",
   "execution_count": 357,
   "id": "4925d7d2",
   "metadata": {},
   "outputs": [],
   "source": [
    "new_df['poverty growth rate'] = 0\n",
    "\n",
    "for i in new_df.index:\n",
    "    if i[-4:] != '2013':\n",
    "        try:\n",
    "            s = i[:-4] + str(int(i[-4:]) - 1)\n",
    "            new_df.loc[i, 'poverty growth rate'] = new_df.loc[i, 'poverty']/new_df.loc[s, 'poverty'] - 1\n",
    "        except KeyError:\n",
    "            new_df.loc[i, 'poverty growth rate'] = 0"
   ]
  },
  {
   "cell_type": "code",
   "execution_count": 358,
   "id": "4e3ed8cd",
   "metadata": {},
   "outputs": [],
   "source": [
    "new_df['unemployment growth rate'] = 0\n",
    "\n",
    "for i in new_df.index:\n",
    "    if i[-4:] != '2013':\n",
    "        try:\n",
    "            s = i[:-4] + str(int(i[-4:]) - 1)\n",
    "            new_df.loc[i, 'unemployment growth rate'] = new_df.loc[i, 'unemployment']/new_df.loc[s, 'unemployment'] - 1\n",
    "        except KeyError:\n",
    "            new_df.loc[i, 'unemployment growth rate'] = 0"
   ]
  },
  {
   "cell_type": "code",
   "execution_count": 359,
   "id": "3556c7a3",
   "metadata": {},
   "outputs": [
    {
     "data": {
      "text/html": [
       "<div>\n",
       "<style scoped>\n",
       "    .dataframe tbody tr th:only-of-type {\n",
       "        vertical-align: middle;\n",
       "    }\n",
       "\n",
       "    .dataframe tbody tr th {\n",
       "        vertical-align: top;\n",
       "    }\n",
       "\n",
       "    .dataframe thead th {\n",
       "        text-align: right;\n",
       "    }\n",
       "</style>\n",
       "<table border=\"1\" class=\"dataframe\">\n",
       "  <thead>\n",
       "    <tr style=\"text-align: right;\">\n",
       "      <th></th>\n",
       "      <th>income</th>\n",
       "      <th>unemployment</th>\n",
       "      <th>fertility</th>\n",
       "      <th>poverty</th>\n",
       "      <th>income growth rate</th>\n",
       "      <th>poverty growth rate</th>\n",
       "      <th>unemployment growth rate</th>\n",
       "    </tr>\n",
       "    <tr>\n",
       "      <th>Subject and year</th>\n",
       "      <th></th>\n",
       "      <th></th>\n",
       "      <th></th>\n",
       "      <th></th>\n",
       "      <th></th>\n",
       "      <th></th>\n",
       "      <th></th>\n",
       "    </tr>\n",
       "  </thead>\n",
       "  <tbody>\n",
       "    <tr>\n",
       "      <th>Белгородская область, 2013</th>\n",
       "      <td>20381.200000</td>\n",
       "      <td>4.0</td>\n",
       "      <td>1.526</td>\n",
       "      <td>0.075979</td>\n",
       "      <td>0.000000</td>\n",
       "      <td>0.000000</td>\n",
       "      <td>0.00000</td>\n",
       "    </tr>\n",
       "    <tr>\n",
       "      <th>Белгородская область, 2014</th>\n",
       "      <td>21097.980272</td>\n",
       "      <td>4.0</td>\n",
       "      <td>1.544</td>\n",
       "      <td>0.077480</td>\n",
       "      <td>0.035169</td>\n",
       "      <td>0.019759</td>\n",
       "      <td>0.00000</td>\n",
       "    </tr>\n",
       "    <tr>\n",
       "      <th>Белгородская область, 2015</th>\n",
       "      <td>20099.251983</td>\n",
       "      <td>4.1</td>\n",
       "      <td>1.561</td>\n",
       "      <td>0.085901</td>\n",
       "      <td>-0.047338</td>\n",
       "      <td>0.108677</td>\n",
       "      <td>0.02500</td>\n",
       "    </tr>\n",
       "    <tr>\n",
       "      <th>Белгородская область, 2016</th>\n",
       "      <td>18255.004393</td>\n",
       "      <td>4.0</td>\n",
       "      <td>1.547</td>\n",
       "      <td>0.081919</td>\n",
       "      <td>-0.091757</td>\n",
       "      <td>-0.046353</td>\n",
       "      <td>-0.02439</td>\n",
       "    </tr>\n",
       "    <tr>\n",
       "      <th>Белгородская область, 2017</th>\n",
       "      <td>19532.726326</td>\n",
       "      <td>3.9</td>\n",
       "      <td>1.389</td>\n",
       "      <td>0.078786</td>\n",
       "      <td>0.069993</td>\n",
       "      <td>-0.038247</td>\n",
       "      <td>-0.02500</td>\n",
       "    </tr>\n",
       "  </tbody>\n",
       "</table>\n",
       "</div>"
      ],
      "text/plain": [
       "                                  income  unemployment  fertility   poverty  \\\n",
       "Subject and year                                                              \n",
       "Белгородская область, 2013  20381.200000           4.0      1.526  0.075979   \n",
       "Белгородская область, 2014  21097.980272           4.0      1.544  0.077480   \n",
       "Белгородская область, 2015  20099.251983           4.1      1.561  0.085901   \n",
       "Белгородская область, 2016  18255.004393           4.0      1.547  0.081919   \n",
       "Белгородская область, 2017  19532.726326           3.9      1.389  0.078786   \n",
       "\n",
       "                            income growth rate  poverty growth rate  \\\n",
       "Subject and year                                                      \n",
       "Белгородская область, 2013            0.000000             0.000000   \n",
       "Белгородская область, 2014            0.035169             0.019759   \n",
       "Белгородская область, 2015           -0.047338             0.108677   \n",
       "Белгородская область, 2016           -0.091757            -0.046353   \n",
       "Белгородская область, 2017            0.069993            -0.038247   \n",
       "\n",
       "                            unemployment growth rate  \n",
       "Subject and year                                      \n",
       "Белгородская область, 2013                   0.00000  \n",
       "Белгородская область, 2014                   0.00000  \n",
       "Белгородская область, 2015                   0.02500  \n",
       "Белгородская область, 2016                  -0.02439  \n",
       "Белгородская область, 2017                  -0.02500  "
      ]
     },
     "execution_count": 359,
     "metadata": {},
     "output_type": "execute_result"
    }
   ],
   "source": [
    "new_df.head()"
   ]
  },
  {
   "cell_type": "code",
   "execution_count": 360,
   "id": "cd315503",
   "metadata": {},
   "outputs": [
    {
     "data": {
      "text/html": [
       "<div>\n",
       "<style scoped>\n",
       "    .dataframe tbody tr th:only-of-type {\n",
       "        vertical-align: middle;\n",
       "    }\n",
       "\n",
       "    .dataframe tbody tr th {\n",
       "        vertical-align: top;\n",
       "    }\n",
       "\n",
       "    .dataframe thead th {\n",
       "        text-align: right;\n",
       "    }\n",
       "</style>\n",
       "<table border=\"1\" class=\"dataframe\">\n",
       "  <thead>\n",
       "    <tr style=\"text-align: right;\">\n",
       "      <th></th>\n",
       "      <th>income</th>\n",
       "      <th>unemployment</th>\n",
       "      <th>fertility</th>\n",
       "      <th>poverty</th>\n",
       "      <th>income growth rate</th>\n",
       "      <th>poverty growth rate</th>\n",
       "      <th>unemployment growth rate</th>\n",
       "    </tr>\n",
       "    <tr>\n",
       "      <th>Subject and year</th>\n",
       "      <th></th>\n",
       "      <th></th>\n",
       "      <th></th>\n",
       "      <th></th>\n",
       "      <th></th>\n",
       "      <th></th>\n",
       "      <th></th>\n",
       "    </tr>\n",
       "  </thead>\n",
       "  <tbody>\n",
       "    <tr>\n",
       "      <th>Белгородская область, 2014</th>\n",
       "      <td>21097.980272</td>\n",
       "      <td>4.0</td>\n",
       "      <td>1.544</td>\n",
       "      <td>0.077480</td>\n",
       "      <td>0.035169</td>\n",
       "      <td>0.019759</td>\n",
       "      <td>0.000000</td>\n",
       "    </tr>\n",
       "    <tr>\n",
       "      <th>Белгородская область, 2015</th>\n",
       "      <td>20099.251983</td>\n",
       "      <td>4.1</td>\n",
       "      <td>1.561</td>\n",
       "      <td>0.085901</td>\n",
       "      <td>-0.047338</td>\n",
       "      <td>0.108677</td>\n",
       "      <td>0.025000</td>\n",
       "    </tr>\n",
       "    <tr>\n",
       "      <th>Белгородская область, 2016</th>\n",
       "      <td>18255.004393</td>\n",
       "      <td>4.0</td>\n",
       "      <td>1.547</td>\n",
       "      <td>0.081919</td>\n",
       "      <td>-0.091757</td>\n",
       "      <td>-0.046353</td>\n",
       "      <td>-0.024390</td>\n",
       "    </tr>\n",
       "    <tr>\n",
       "      <th>Белгородская область, 2017</th>\n",
       "      <td>19532.726326</td>\n",
       "      <td>3.9</td>\n",
       "      <td>1.389</td>\n",
       "      <td>0.078786</td>\n",
       "      <td>0.069993</td>\n",
       "      <td>-0.038247</td>\n",
       "      <td>-0.025000</td>\n",
       "    </tr>\n",
       "    <tr>\n",
       "      <th>Белгородская область, 2018</th>\n",
       "      <td>20260.923148</td>\n",
       "      <td>4.0</td>\n",
       "      <td>1.358</td>\n",
       "      <td>0.075914</td>\n",
       "      <td>0.037281</td>\n",
       "      <td>-0.036454</td>\n",
       "      <td>0.025641</td>\n",
       "    </tr>\n",
       "  </tbody>\n",
       "</table>\n",
       "</div>"
      ],
      "text/plain": [
       "                                  income  unemployment  fertility   poverty  \\\n",
       "Subject and year                                                              \n",
       "Белгородская область, 2014  21097.980272           4.0      1.544  0.077480   \n",
       "Белгородская область, 2015  20099.251983           4.1      1.561  0.085901   \n",
       "Белгородская область, 2016  18255.004393           4.0      1.547  0.081919   \n",
       "Белгородская область, 2017  19532.726326           3.9      1.389  0.078786   \n",
       "Белгородская область, 2018  20260.923148           4.0      1.358  0.075914   \n",
       "\n",
       "                            income growth rate  poverty growth rate  \\\n",
       "Subject and year                                                      \n",
       "Белгородская область, 2014            0.035169             0.019759   \n",
       "Белгородская область, 2015           -0.047338             0.108677   \n",
       "Белгородская область, 2016           -0.091757            -0.046353   \n",
       "Белгородская область, 2017            0.069993            -0.038247   \n",
       "Белгородская область, 2018            0.037281            -0.036454   \n",
       "\n",
       "                            unemployment growth rate  \n",
       "Subject and year                                      \n",
       "Белгородская область, 2014                  0.000000  \n",
       "Белгородская область, 2015                  0.025000  \n",
       "Белгородская область, 2016                 -0.024390  \n",
       "Белгородская область, 2017                 -0.025000  \n",
       "Белгородская область, 2018                  0.025641  "
      ]
     },
     "execution_count": 360,
     "metadata": {},
     "output_type": "execute_result"
    }
   ],
   "source": [
    "for i in new_df.index:\n",
    "    if i[-4:] == '2013':\n",
    "        new_df.drop(i, inplace=True)\n",
    "       \n",
    "new_df.head()"
   ]
  },
  {
   "cell_type": "markdown",
   "id": "2f1a4146",
   "metadata": {},
   "source": [
    "Для дальнейшего понимания хода мысли необходимо визуализировать полученные темпы прироста:"
   ]
  },
  {
   "cell_type": "code",
   "execution_count": 361,
   "id": "904eb378",
   "metadata": {},
   "outputs": [
    {
     "name": "stdout",
     "output_type": "stream",
     "text": [
      "count    736.000000\n",
      "mean      -0.014701\n",
      "std        0.067248\n",
      "min       -0.248927\n",
      "25%       -0.055860\n",
      "50%       -0.021600\n",
      "75%        0.009342\n",
      "max        0.281885\n",
      "Name: poverty growth rate, dtype: float64\n"
     ]
    },
    {
     "data": {
      "image/png": "[encoded data removed]",
      "text/plain": [
       "<Figure size 640x480 with 1 Axes>"
      ]
     },
     "metadata": {},
     "output_type": "display_data"
    },
    {
     "data": {
      "image/png": "[encoded data removed]",
      "text/plain": [
       "<Figure size 640x480 with 1 Axes>"
      ]
     },
     "metadata": {},
     "output_type": "display_data"
    }
   ],
   "source": [
    "EDA(new_df, 'poverty growth rate')"
   ]
  },
  {
   "cell_type": "code",
   "execution_count": 362,
   "id": "8a2d453d",
   "metadata": {},
   "outputs": [
    {
     "name": "stdout",
     "output_type": "stream",
     "text": [
      "count    736.000000\n",
      "mean      -0.025364\n",
      "std        0.161300\n",
      "min       -0.484375\n",
      "25%       -0.117865\n",
      "50%       -0.036700\n",
      "75%        0.033475\n",
      "max        1.071429\n",
      "Name: unemployment growth rate, dtype: float64\n"
     ]
    },
    {
     "data": {
      "image/png": "[encoded data removed]",
      "text/plain": [
       "<Figure size 640x480 with 1 Axes>"
      ]
     },
     "metadata": {},
     "output_type": "display_data"
    },
    {
     "data": {
      "image/png": "[encoded data removed]",
      "text/plain": [
       "<Figure size 640x480 with 1 Axes>"
      ]
     },
     "metadata": {},
     "output_type": "display_data"
    }
   ],
   "source": [
    "EDA(new_df, 'unemployment growth rate')"
   ]
  },
  {
   "cell_type": "code",
   "execution_count": 363,
   "id": "3ead7a75",
   "metadata": {},
   "outputs": [
    {
     "data": {
      "text/html": [
       "<div>\n",
       "<style scoped>\n",
       "    .dataframe tbody tr th:only-of-type {\n",
       "        vertical-align: middle;\n",
       "    }\n",
       "\n",
       "    .dataframe tbody tr th {\n",
       "        vertical-align: top;\n",
       "    }\n",
       "\n",
       "    .dataframe thead th {\n",
       "        text-align: right;\n",
       "    }\n",
       "</style>\n",
       "<table border=\"1\" class=\"dataframe\">\n",
       "  <thead>\n",
       "    <tr style=\"text-align: right;\">\n",
       "      <th></th>\n",
       "      <th>income</th>\n",
       "      <th>unemployment</th>\n",
       "      <th>fertility</th>\n",
       "      <th>poverty</th>\n",
       "      <th>income growth rate</th>\n",
       "      <th>poverty growth rate</th>\n",
       "      <th>unemployment growth rate</th>\n",
       "    </tr>\n",
       "  </thead>\n",
       "  <tbody>\n",
       "    <tr>\n",
       "      <th>income</th>\n",
       "      <td>1.000000</td>\n",
       "      <td>-0.233715</td>\n",
       "      <td>0.054320</td>\n",
       "      <td>-0.332234</td>\n",
       "      <td>0.095942</td>\n",
       "      <td>-0.153490</td>\n",
       "      <td>0.004170</td>\n",
       "    </tr>\n",
       "    <tr>\n",
       "      <th>unemployment</th>\n",
       "      <td>-0.233715</td>\n",
       "      <td>1.000000</td>\n",
       "      <td>0.520320</td>\n",
       "      <td>0.662736</td>\n",
       "      <td>-0.055653</td>\n",
       "      <td>0.241742</td>\n",
       "      <td>0.136967</td>\n",
       "    </tr>\n",
       "    <tr>\n",
       "      <th>fertility</th>\n",
       "      <td>0.054320</td>\n",
       "      <td>0.520320</td>\n",
       "      <td>1.000000</td>\n",
       "      <td>0.499630</td>\n",
       "      <td>-0.182168</td>\n",
       "      <td>0.365800</td>\n",
       "      <td>0.068161</td>\n",
       "    </tr>\n",
       "    <tr>\n",
       "      <th>poverty</th>\n",
       "      <td>-0.332234</td>\n",
       "      <td>0.662736</td>\n",
       "      <td>0.499630</td>\n",
       "      <td>1.000000</td>\n",
       "      <td>-0.076876</td>\n",
       "      <td>0.224894</td>\n",
       "      <td>0.052915</td>\n",
       "    </tr>\n",
       "    <tr>\n",
       "      <th>income growth rate</th>\n",
       "      <td>0.095942</td>\n",
       "      <td>-0.055653</td>\n",
       "      <td>-0.182168</td>\n",
       "      <td>-0.076876</td>\n",
       "      <td>1.000000</td>\n",
       "      <td>-0.283972</td>\n",
       "      <td>-0.034259</td>\n",
       "    </tr>\n",
       "    <tr>\n",
       "      <th>poverty growth rate</th>\n",
       "      <td>-0.153490</td>\n",
       "      <td>0.241742</td>\n",
       "      <td>0.365800</td>\n",
       "      <td>0.224894</td>\n",
       "      <td>-0.283972</td>\n",
       "      <td>1.000000</td>\n",
       "      <td>0.272041</td>\n",
       "    </tr>\n",
       "    <tr>\n",
       "      <th>unemployment growth rate</th>\n",
       "      <td>0.004170</td>\n",
       "      <td>0.136967</td>\n",
       "      <td>0.068161</td>\n",
       "      <td>0.052915</td>\n",
       "      <td>-0.034259</td>\n",
       "      <td>0.272041</td>\n",
       "      <td>1.000000</td>\n",
       "    </tr>\n",
       "  </tbody>\n",
       "</table>\n",
       "</div>"
      ],
      "text/plain": [
       "                            income  unemployment  fertility   poverty  \\\n",
       "income                    1.000000     -0.233715   0.054320 -0.332234   \n",
       "unemployment             -0.233715      1.000000   0.520320  0.662736   \n",
       "fertility                 0.054320      0.520320   1.000000  0.499630   \n",
       "poverty                  -0.332234      0.662736   0.499630  1.000000   \n",
       "income growth rate        0.095942     -0.055653  -0.182168 -0.076876   \n",
       "poverty growth rate      -0.153490      0.241742   0.365800  0.224894   \n",
       "unemployment growth rate  0.004170      0.136967   0.068161  0.052915   \n",
       "\n",
       "                          income growth rate  poverty growth rate  \\\n",
       "income                              0.095942            -0.153490   \n",
       "unemployment                       -0.055653             0.241742   \n",
       "fertility                          -0.182168             0.365800   \n",
       "poverty                            -0.076876             0.224894   \n",
       "income growth rate                  1.000000            -0.283972   \n",
       "poverty growth rate                -0.283972             1.000000   \n",
       "unemployment growth rate           -0.034259             0.272041   \n",
       "\n",
       "                          unemployment growth rate  \n",
       "income                                    0.004170  \n",
       "unemployment                              0.136967  \n",
       "fertility                                 0.068161  \n",
       "poverty                                   0.052915  \n",
       "income growth rate                       -0.034259  \n",
       "poverty growth rate                       0.272041  \n",
       "unemployment growth rate                  1.000000  "
      ]
     },
     "execution_count": 363,
     "metadata": {},
     "output_type": "execute_result"
    }
   ],
   "source": [
    "new_df.corr()"
   ]
  },
  {
   "cell_type": "markdown",
   "id": "837497ec",
   "metadata": {},
   "source": [
    "Согласно визуализации видно, что темпы прироста безработицы распределены схоже с распределением темпов прироста доходов. Они имеют схожие матожидания и дисперсию. Стоит проверить гипотезу о равенстве матожиданий и дисперсий этих двух показателей. Если она подтвердится, то достаточно будет рассмотреть только один из них для дальнейшего обучения модели"
   ]
  },
  {
   "cell_type": "markdown",
   "id": "f263c139",
   "metadata": {},
   "source": [
    "#### Территориальная составляющая:"
   ]
  },
  {
   "cell_type": "code",
   "execution_count": 364,
   "id": "be1e286f",
   "metadata": {
    "scrolled": true
   },
   "outputs": [
    {
     "data": {
      "text/html": [
       "<div>\n",
       "<style scoped>\n",
       "    .dataframe tbody tr th:only-of-type {\n",
       "        vertical-align: middle;\n",
       "    }\n",
       "\n",
       "    .dataframe tbody tr th {\n",
       "        vertical-align: top;\n",
       "    }\n",
       "\n",
       "    .dataframe thead th {\n",
       "        text-align: right;\n",
       "    }\n",
       "</style>\n",
       "<table border=\"1\" class=\"dataframe\">\n",
       "  <thead>\n",
       "    <tr style=\"text-align: right;\">\n",
       "      <th></th>\n",
       "      <th>income</th>\n",
       "      <th>unemployment</th>\n",
       "      <th>fertility</th>\n",
       "      <th>poverty</th>\n",
       "      <th>income growth rate</th>\n",
       "      <th>poverty growth rate</th>\n",
       "      <th>unemployment growth rate</th>\n",
       "      <th>region</th>\n",
       "    </tr>\n",
       "    <tr>\n",
       "      <th>Subject and year</th>\n",
       "      <th></th>\n",
       "      <th></th>\n",
       "      <th></th>\n",
       "      <th></th>\n",
       "      <th></th>\n",
       "      <th></th>\n",
       "      <th></th>\n",
       "      <th></th>\n",
       "    </tr>\n",
       "  </thead>\n",
       "  <tbody>\n",
       "    <tr>\n",
       "      <th>Белгородская область, 2014</th>\n",
       "      <td>21097.980272</td>\n",
       "      <td>4.0</td>\n",
       "      <td>1.544</td>\n",
       "      <td>0.077480</td>\n",
       "      <td>0.035169</td>\n",
       "      <td>0.019759</td>\n",
       "      <td>0.000000</td>\n",
       "      <td>Центральный</td>\n",
       "    </tr>\n",
       "    <tr>\n",
       "      <th>Белгородская область, 2015</th>\n",
       "      <td>20099.251983</td>\n",
       "      <td>4.1</td>\n",
       "      <td>1.561</td>\n",
       "      <td>0.085901</td>\n",
       "      <td>-0.047338</td>\n",
       "      <td>0.108677</td>\n",
       "      <td>0.025000</td>\n",
       "      <td>Центральный</td>\n",
       "    </tr>\n",
       "    <tr>\n",
       "      <th>Белгородская область, 2016</th>\n",
       "      <td>18255.004393</td>\n",
       "      <td>4.0</td>\n",
       "      <td>1.547</td>\n",
       "      <td>0.081919</td>\n",
       "      <td>-0.091757</td>\n",
       "      <td>-0.046353</td>\n",
       "      <td>-0.024390</td>\n",
       "      <td>Центральный</td>\n",
       "    </tr>\n",
       "    <tr>\n",
       "      <th>Белгородская область, 2017</th>\n",
       "      <td>19532.726326</td>\n",
       "      <td>3.9</td>\n",
       "      <td>1.389</td>\n",
       "      <td>0.078786</td>\n",
       "      <td>0.069993</td>\n",
       "      <td>-0.038247</td>\n",
       "      <td>-0.025000</td>\n",
       "      <td>Центральный</td>\n",
       "    </tr>\n",
       "    <tr>\n",
       "      <th>Белгородская область, 2018</th>\n",
       "      <td>20260.923148</td>\n",
       "      <td>4.0</td>\n",
       "      <td>1.358</td>\n",
       "      <td>0.075914</td>\n",
       "      <td>0.037281</td>\n",
       "      <td>-0.036454</td>\n",
       "      <td>0.025641</td>\n",
       "      <td>Центральный</td>\n",
       "    </tr>\n",
       "  </tbody>\n",
       "</table>\n",
       "</div>"
      ],
      "text/plain": [
       "                                  income  unemployment  fertility   poverty  \\\n",
       "Subject and year                                                              \n",
       "Белгородская область, 2014  21097.980272           4.0      1.544  0.077480   \n",
       "Белгородская область, 2015  20099.251983           4.1      1.561  0.085901   \n",
       "Белгородская область, 2016  18255.004393           4.0      1.547  0.081919   \n",
       "Белгородская область, 2017  19532.726326           3.9      1.389  0.078786   \n",
       "Белгородская область, 2018  20260.923148           4.0      1.358  0.075914   \n",
       "\n",
       "                            income growth rate  poverty growth rate  \\\n",
       "Subject and year                                                      \n",
       "Белгородская область, 2014            0.035169             0.019759   \n",
       "Белгородская область, 2015           -0.047338             0.108677   \n",
       "Белгородская область, 2016           -0.091757            -0.046353   \n",
       "Белгородская область, 2017            0.069993            -0.038247   \n",
       "Белгородская область, 2018            0.037281            -0.036454   \n",
       "\n",
       "                            unemployment growth rate       region  \n",
       "Subject and year                                                   \n",
       "Белгородская область, 2014                  0.000000  Центральный  \n",
       "Белгородская область, 2015                  0.025000  Центральный  \n",
       "Белгородская область, 2016                 -0.024390  Центральный  \n",
       "Белгородская область, 2017                 -0.025000  Центральный  \n",
       "Белгородская область, 2018                  0.025641  Центральный  "
      ]
     },
     "execution_count": 364,
     "metadata": {},
     "output_type": "execute_result"
    }
   ],
   "source": [
    "regions_df = pd.read_csv('data_for_project/regions.csv', index_col=1)\n",
    "\n",
    "new_df['region'] = 0\n",
    "\n",
    "for i in new_df.index:\n",
    "   \n",
    "    new_df.loc[i, 'region'] = regions_df.loc[i[:-6].strip(), 'region']\n",
    "    \n",
    "        \n",
    "new_df.head()"
   ]
  },
  {
   "cell_type": "code",
   "execution_count": 365,
   "id": "7b996743",
   "metadata": {},
   "outputs": [
    {
     "data": {
      "image/png": "[encoded data removed]",
      "text/plain": [
       "<Figure size 640x480 with 1 Axes>"
      ]
     },
     "metadata": {},
     "output_type": "display_data"
    }
   ],
   "source": [
    "wordcloud = WordCloud().generate(','.join(new_df['region']))\n",
    "\n",
    "plt.imshow(wordcloud, interpolation='bilinear')\n",
    "plt.axis(\"off\")\n",
    "plt.show()"
   ]
  },
  {
   "cell_type": "code",
   "execution_count": 366,
   "id": "fb229a71",
   "metadata": {},
   "outputs": [],
   "source": [
    "new_df.fillna(0, inplace=True)"
   ]
  },
  {
   "cell_type": "markdown",
   "id": "e5f40870",
   "metadata": {},
   "source": [
    "### Проверка гипотез"
   ]
  },
  {
   "cell_type": "markdown",
   "id": "11ffdd88",
   "metadata": {},
   "source": [
    "#### Гипотеза 1\n",
    "\n",
    "Проверим гипотезу о равенстве матожиданий темпов прироста безработицы и темпов прироста доходов\n",
    "\n",
    "$$\n",
    "H_0: \\mu_{ugr} = \\mu_{igr}  \\\\\n",
    "H_1: \\mu_{ugr} \\neq \\mu_{igr}\n",
    "$$"
   ]
  },
  {
   "cell_type": "code",
   "execution_count": 367,
   "id": "d11ad735",
   "metadata": {},
   "outputs": [
    {
     "data": {
      "text/plain": [
       "Ttest_indResult(statistic=-6.426316452754027, pvalue=1.761960082909602e-10)"
      ]
     },
     "execution_count": 367,
     "metadata": {},
     "output_type": "execute_result"
    }
   ],
   "source": [
    "sts.ttest_ind(list(new_df['unemployment growth rate']), list(new_df['income growth rate'] ))"
   ]
  },
  {
   "cell_type": "markdown",
   "id": "f49523f5",
   "metadata": {},
   "source": [
    "Нулевая гипотеза отвергнута на любом уровне значимости. Поэтому в модели необходимо рассмотреть оба признака."
   ]
  },
  {
   "cell_type": "markdown",
   "id": "4758f7bb",
   "metadata": {},
   "source": [
    "#### Гипотеза 2\n",
    "\n",
    "Исследуем зависимость рождаемости от региона. Для этого проверим равенство матожиданий рождаемости в двух принципиально разных округах: Дальневосточном и Центральном\n",
    "\n",
    "$$\n",
    "H_0: \\mu_{f_{dv}} = \\mu_{f_{ce}}  \\\\\n",
    "H_1: \\mu_{f_{dv}} \\neq \\mu_{f_{ce}}\n",
    "$$"
   ]
  },
  {
   "cell_type": "code",
   "execution_count": 368,
   "id": "f4803dd1",
   "metadata": {},
   "outputs": [
    {
     "data": {
      "text/plain": [
       "Ttest_indResult(statistic=12.302493018819208, pvalue=2.5687649887820475e-27)"
      ]
     },
     "execution_count": 368,
     "metadata": {},
     "output_type": "execute_result"
    }
   ],
   "source": [
    "sts.ttest_ind(new_df[new_df['region'] == 'Дальневосточный']['fertility'], new_df[new_df['region'] == 'Центральный']['fertility'])"
   ]
  },
  {
   "cell_type": "markdown",
   "id": "4bdb842b",
   "metadata": {},
   "source": [
    "Очевидно, что нулевая гипотеза также отвергается на любом уровне значимости. Значит, имеет смысл говорить о возможном наличии взаимосвязи между округом и рождаемостью"
   ]
  },
  {
   "cell_type": "markdown",
   "id": "bf0c7db3",
   "metadata": {},
   "source": [
    "#### Гипотеза 3\n",
    "\n",
    "Совпадают ли вероятности того, что рост темпов безработицы сопровождается ростом темпов бедности ? Интуитивно понятно,что да \n",
    "\n",
    "$$\n",
    "H_0: p_{ugr > 0} = p_{pgr > 0}\\\\\n",
    "H_1: p_{ugr > 0} \\neq p_{pgr > 0}\n",
    "$$"
   ]
  },
  {
   "cell_type": "code",
   "execution_count": 369,
   "id": "9532ad46",
   "metadata": {},
   "outputs": [
    {
     "name": "stdout",
     "output_type": "stream",
     "text": [
      "H0 не отвергается\n"
     ]
    }
   ],
   "source": [
    "p_u = (new_df['unemployment growth rate'] > 0).mean()\n",
    "p_p = (new_df['poverty growth rate'] > 0).mean()\n",
    "\n",
    "s_u = (p_u*(1-p_u))/(new_df['unemployment growth rate'] > 0).sum()\n",
    "s_p = (p_p*(1-p_p))/(new_df['poverty growth rate'] > 0).sum()\n",
    "\n",
    "z_st = (p_u - p_p)/np.sqrt(s_u + s_p)\n",
    "\n",
    "if abs(z_st) < sts.norm.ppf(0.95):\n",
    "    print('H0 не отвергается')\n",
    "else:\n",
    "    print('H0 отвергается')"
   ]
  },
  {
   "cell_type": "markdown",
   "id": "daaf6472",
   "metadata": {},
   "source": [
    "Действительно, нет оснований опровергать, что рост темпов безработицы сопровождается ростом темпов бедност"
   ]
  },
  {
   "cell_type": "markdown",
   "id": "cd46a714",
   "metadata": {},
   "source": [
    "## Машинное обучение"
   ]
  },
  {
   "cell_type": "markdown",
   "id": "01db1a87",
   "metadata": {},
   "source": [
    "### Линейная регрессия"
   ]
  },
  {
   "cell_type": "markdown",
   "id": "6007c5a7",
   "metadata": {},
   "source": [
    "Начнем с базовой модели. Поскольку в модели есть как качественные, так и количественные признаки, мы будем использовать множественную регрессию. Для кодирования единственной качественной переменной $regions$ будем использовать способ фиктивных переменных dummy variables."
   ]
  },
  {
   "cell_type": "code",
   "execution_count": 370,
   "id": "dadf4240",
   "metadata": {},
   "outputs": [
    {
     "data": {
      "text/html": [
       "<div>\n",
       "<style scoped>\n",
       "    .dataframe tbody tr th:only-of-type {\n",
       "        vertical-align: middle;\n",
       "    }\n",
       "\n",
       "    .dataframe tbody tr th {\n",
       "        vertical-align: top;\n",
       "    }\n",
       "\n",
       "    .dataframe thead th {\n",
       "        text-align: right;\n",
       "    }\n",
       "</style>\n",
       "<table border=\"1\" class=\"dataframe\">\n",
       "  <thead>\n",
       "    <tr style=\"text-align: right;\">\n",
       "      <th></th>\n",
       "      <th>income</th>\n",
       "      <th>unemployment</th>\n",
       "      <th>fertility</th>\n",
       "      <th>poverty</th>\n",
       "      <th>income growth rate</th>\n",
       "      <th>poverty growth rate</th>\n",
       "      <th>unemployment growth rate</th>\n",
       "      <th>region</th>\n",
       "      <th>Дальневосточный</th>\n",
       "      <th>Приволжский</th>\n",
       "      <th>Северный Кавказский</th>\n",
       "      <th>Северо-Западный</th>\n",
       "      <th>Сибирский</th>\n",
       "      <th>Уральский</th>\n",
       "      <th>Центральный</th>\n",
       "      <th>Южный</th>\n",
       "    </tr>\n",
       "    <tr>\n",
       "      <th>Subject and year</th>\n",
       "      <th></th>\n",
       "      <th></th>\n",
       "      <th></th>\n",
       "      <th></th>\n",
       "      <th></th>\n",
       "      <th></th>\n",
       "      <th></th>\n",
       "      <th></th>\n",
       "      <th></th>\n",
       "      <th></th>\n",
       "      <th></th>\n",
       "      <th></th>\n",
       "      <th></th>\n",
       "      <th></th>\n",
       "      <th></th>\n",
       "      <th></th>\n",
       "    </tr>\n",
       "  </thead>\n",
       "  <tbody>\n",
       "    <tr>\n",
       "      <th>Белгородская область, 2014</th>\n",
       "      <td>21097.980272</td>\n",
       "      <td>4.0</td>\n",
       "      <td>1.544</td>\n",
       "      <td>0.077480</td>\n",
       "      <td>0.035169</td>\n",
       "      <td>0.019759</td>\n",
       "      <td>0.000000</td>\n",
       "      <td>Центральный</td>\n",
       "      <td>0</td>\n",
       "      <td>0</td>\n",
       "      <td>0</td>\n",
       "      <td>0</td>\n",
       "      <td>0</td>\n",
       "      <td>0</td>\n",
       "      <td>1</td>\n",
       "      <td>0</td>\n",
       "    </tr>\n",
       "    <tr>\n",
       "      <th>Белгородская область, 2015</th>\n",
       "      <td>20099.251983</td>\n",
       "      <td>4.1</td>\n",
       "      <td>1.561</td>\n",
       "      <td>0.085901</td>\n",
       "      <td>-0.047338</td>\n",
       "      <td>0.108677</td>\n",
       "      <td>0.025000</td>\n",
       "      <td>Центральный</td>\n",
       "      <td>0</td>\n",
       "      <td>0</td>\n",
       "      <td>0</td>\n",
       "      <td>0</td>\n",
       "      <td>0</td>\n",
       "      <td>0</td>\n",
       "      <td>1</td>\n",
       "      <td>0</td>\n",
       "    </tr>\n",
       "    <tr>\n",
       "      <th>Белгородская область, 2016</th>\n",
       "      <td>18255.004393</td>\n",
       "      <td>4.0</td>\n",
       "      <td>1.547</td>\n",
       "      <td>0.081919</td>\n",
       "      <td>-0.091757</td>\n",
       "      <td>-0.046353</td>\n",
       "      <td>-0.024390</td>\n",
       "      <td>Центральный</td>\n",
       "      <td>0</td>\n",
       "      <td>0</td>\n",
       "      <td>0</td>\n",
       "      <td>0</td>\n",
       "      <td>0</td>\n",
       "      <td>0</td>\n",
       "      <td>1</td>\n",
       "      <td>0</td>\n",
       "    </tr>\n",
       "    <tr>\n",
       "      <th>Белгородская область, 2017</th>\n",
       "      <td>19532.726326</td>\n",
       "      <td>3.9</td>\n",
       "      <td>1.389</td>\n",
       "      <td>0.078786</td>\n",
       "      <td>0.069993</td>\n",
       "      <td>-0.038247</td>\n",
       "      <td>-0.025000</td>\n",
       "      <td>Центральный</td>\n",
       "      <td>0</td>\n",
       "      <td>0</td>\n",
       "      <td>0</td>\n",
       "      <td>0</td>\n",
       "      <td>0</td>\n",
       "      <td>0</td>\n",
       "      <td>1</td>\n",
       "      <td>0</td>\n",
       "    </tr>\n",
       "    <tr>\n",
       "      <th>Белгородская область, 2018</th>\n",
       "      <td>20260.923148</td>\n",
       "      <td>4.0</td>\n",
       "      <td>1.358</td>\n",
       "      <td>0.075914</td>\n",
       "      <td>0.037281</td>\n",
       "      <td>-0.036454</td>\n",
       "      <td>0.025641</td>\n",
       "      <td>Центральный</td>\n",
       "      <td>0</td>\n",
       "      <td>0</td>\n",
       "      <td>0</td>\n",
       "      <td>0</td>\n",
       "      <td>0</td>\n",
       "      <td>0</td>\n",
       "      <td>1</td>\n",
       "      <td>0</td>\n",
       "    </tr>\n",
       "  </tbody>\n",
       "</table>\n",
       "</div>"
      ],
      "text/plain": [
       "                                  income  unemployment  fertility   poverty  \\\n",
       "Subject and year                                                              \n",
       "Белгородская область, 2014  21097.980272           4.0      1.544  0.077480   \n",
       "Белгородская область, 2015  20099.251983           4.1      1.561  0.085901   \n",
       "Белгородская область, 2016  18255.004393           4.0      1.547  0.081919   \n",
       "Белгородская область, 2017  19532.726326           3.9      1.389  0.078786   \n",
       "Белгородская область, 2018  20260.923148           4.0      1.358  0.075914   \n",
       "\n",
       "                            income growth rate  poverty growth rate  \\\n",
       "Subject and year                                                      \n",
       "Белгородская область, 2014            0.035169             0.019759   \n",
       "Белгородская область, 2015           -0.047338             0.108677   \n",
       "Белгородская область, 2016           -0.091757            -0.046353   \n",
       "Белгородская область, 2017            0.069993            -0.038247   \n",
       "Белгородская область, 2018            0.037281            -0.036454   \n",
       "\n",
       "                            unemployment growth rate       region  \\\n",
       "Subject and year                                                    \n",
       "Белгородская область, 2014                  0.000000  Центральный   \n",
       "Белгородская область, 2015                  0.025000  Центральный   \n",
       "Белгородская область, 2016                 -0.024390  Центральный   \n",
       "Белгородская область, 2017                 -0.025000  Центральный   \n",
       "Белгородская область, 2018                  0.025641  Центральный   \n",
       "\n",
       "                            Дальневосточный  Приволжский  Северный Кавказский  \\\n",
       "Subject and year                                                                \n",
       "Белгородская область, 2014                0            0                    0   \n",
       "Белгородская область, 2015                0            0                    0   \n",
       "Белгородская область, 2016                0            0                    0   \n",
       "Белгородская область, 2017                0            0                    0   \n",
       "Белгородская область, 2018                0            0                    0   \n",
       "\n",
       "                            Северо-Западный  Сибирский  Уральский  \\\n",
       "Subject and year                                                    \n",
       "Белгородская область, 2014                0          0          0   \n",
       "Белгородская область, 2015                0          0          0   \n",
       "Белгородская область, 2016                0          0          0   \n",
       "Белгородская область, 2017                0          0          0   \n",
       "Белгородская область, 2018                0          0          0   \n",
       "\n",
       "                            Центральный  Южный  \n",
       "Subject and year                                \n",
       "Белгородская область, 2014            1      0  \n",
       "Белгородская область, 2015            1      0  \n",
       "Белгородская область, 2016            1      0  \n",
       "Белгородская область, 2017            1      0  \n",
       "Белгородская область, 2018            1      0  "
      ]
     },
     "execution_count": 370,
     "metadata": {},
     "output_type": "execute_result"
    }
   ],
   "source": [
    "dummy = pd.get_dummies(new_df['region'])\n",
    "new_df = pd.concat([new_df, dummy], axis=1)\n",
    "new_df.head()"
   ]
  },
  {
   "cell_type": "code",
   "execution_count": 371,
   "id": "f02481be",
   "metadata": {},
   "outputs": [],
   "source": [
    "new_df.drop('region', axis=1, inplace=True)"
   ]
  },
  {
   "cell_type": "code",
   "execution_count": 372,
   "id": "49ce5180",
   "metadata": {},
   "outputs": [],
   "source": [
    "first_model = LinearRegression()\n",
    "\n",
    "X = new_df[['income', 'unemployment', 'poverty', 'income growth rate', 'poverty growth rate', 'unemployment growth rate', 'Дальневосточный', 'Приволжский', 'Северный Кавказский', 'Северо-Западный', 'Сибирский', 'Уральский', 'Центральный', 'Южный']]\n",
    "y = new_df['fertility']\n",
    "\n",
    "np.random.seed(1)\n",
    "X_train, X_test, y_train, y_test = train_test_split(X, y, test_size=0.2)\n",
    "\n",
    "first_model.fit(X_train, y_train)\n",
    "\n",
    "y_pred = first_model.predict(X_test)\n",
    "y_train_pred = first_model.predict(X_train)"
   ]
  },
  {
   "cell_type": "markdown",
   "id": "b9072eab",
   "metadata": {},
   "source": [
    "Теперь обратимся к метрикам качества модели и посмотрим, что можно улучшить в дальнейшем"
   ]
  },
  {
   "cell_type": "code",
   "execution_count": 373,
   "id": "2715367c",
   "metadata": {},
   "outputs": [
    {
     "name": "stdout",
     "output_type": "stream",
     "text": [
      "MAPE: 0.08983133291369581\n",
      "MSE: 0.042486294243977284\n",
      "R2: 0.4385293883013417\n"
     ]
    }
   ],
   "source": [
    "print('MAPE:', mean_absolute_percentage_error(y_test, y_pred))\n",
    "print('MSE:', mean_squared_error(y_test, y_pred))\n",
    "print('R2:', r2_score(y_test, y_pred))"
   ]
  },
  {
   "cell_type": "markdown",
   "id": "673cf35d",
   "metadata": {},
   "source": [
    "Попробуем поиграться со степенями: для 6 числовых значений признаков рассмотрим по 3 степени: квадратный корень, степень 1, квадрат. Итого вариантов степеней числовых признаков: 3^6. "
   ]
  },
  {
   "cell_type": "code",
   "execution_count": 374,
   "id": "3d7e6579",
   "metadata": {},
   "outputs": [],
   "source": [
    "ls = list(product([1, 2, 3], repeat=6))\n",
    "\n",
    "r2 = [0, 0]\n",
    "mape = [10**6, 0]\n",
    "\n",
    "lst = ['income', 'unemployment', 'poverty', 'income growth rate', 'poverty growth rate', 'unemployment growth rate']\n",
    "cat = ['income', 'unemployment', 'poverty', 'income growth rate', 'poverty growth rate', 'unemployment growth rate', 'Дальневосточный', 'Приволжский', 'Северный Кавказский', 'Северо-Западный', 'Сибирский', 'Уральский', 'Центральный', 'Южный']\n",
    "\n",
    "for i in range(3**6):\n",
    "    s = ls[i]\n",
    "    temp = new_df.copy()\n",
    "    temp_model = LinearRegression()\n",
    "    for j in range(6):\n",
    "        stepen = (s[j] == 1) * (1/2) + (s[j] == 2) * (1) + (s[j] == 3) * (2)\n",
    "        lst_temp = np.array([])\n",
    "        for el in temp[lst[j]]:\n",
    "            lst_temp = np.append(lst_temp, np.sign(el)*(abs(el) ** stepen))\n",
    "    \n",
    "        temp[lst[j]] = lst_temp\n",
    "    X_temp = temp[['income', 'unemployment', 'poverty', 'income growth rate', 'poverty growth rate', 'unemployment growth rate', 'Дальневосточный', 'Приволжский', 'Северный Кавказский', 'Северо-Западный', 'Сибирский', 'Уральский', 'Центральный', 'Южный']]\n",
    "    y_temp = temp['fertility']\n",
    "\n",
    "    np.random.seed(1)\n",
    "    X_train_temp, X_test_temp, y_train_temp, y_test_temp = train_test_split(X_temp, y_temp, test_size=0.2)\n",
    "\n",
    "    temp_model.fit(X_train_temp, y_train_temp)\n",
    "  \n",
    "\n",
    "    y_pred_temp = temp_model.predict(X_test_temp)\n",
    "    y_train_pred_temp = temp_model.predict(X_train_temp)\n",
    "    if r2_score(y_test_temp, y_pred_temp) > r2[0]:\n",
    "        r2[0] = r2_score(y_test_temp, y_pred_temp)\n",
    "        r2[1] = s\n",
    "    if mean_absolute_percentage_error(y_test_temp, y_pred_temp) < mape[0]:\n",
    "        mape[0] = mean_absolute_percentage_error(y_test_temp, y_pred_temp)\n",
    "        mape[1] = s\n",
    "    "
   ]
  },
  {
   "cell_type": "code",
   "execution_count": 375,
   "id": "84aa1829",
   "metadata": {},
   "outputs": [
    {
     "data": {
      "text/plain": [
       "([0.49390917321926187, (2, 1, 3, 1, 2, 2)],\n",
       " [0.08641810038782469, (2, 1, 3, 3, 1, 1)])"
      ]
     },
     "execution_count": 375,
     "metadata": {},
     "output_type": "execute_result"
    }
   ],
   "source": [
    "r2, mape"
   ]
  },
  {
   "cell_type": "markdown",
   "id": "255783a5",
   "metadata": {},
   "source": [
    "Из проведенных экспериментов можно заключить, что коэф. r2 максимально равен 0.5. MAPE минимально равна 0.086. "
   ]
  },
  {
   "cell_type": "code",
   "execution_count": 376,
   "id": "76d7be40",
   "metadata": {},
   "outputs": [],
   "source": [
    "stepen_final = [2, 1, 3, 1, 2, 2]\n",
    "\n",
    "df_final = new_df.copy()\n",
    "\n",
    "second_model = LinearRegression()\n",
    "\n",
    "for j in range(6):\n",
    "        stepen = (stepen_final[j] == 1) * (1/2) + (stepen_final[j] == 2) * (1) + (stepen_final[j] == 3) * (2)\n",
    "        lst_temp = np.array([])\n",
    "        for el in df_final[lst[j]]:\n",
    "            lst_temp = np.append(lst_temp, np.sign(el)*(abs(el) ** stepen))\n",
    "    \n",
    "        df_final[lst[j]] = lst_temp\n",
    "        \n",
    "X = df_final[['income', 'unemployment', 'poverty', 'income growth rate', 'poverty growth rate', 'unemployment growth rate', 'Дальневосточный', 'Приволжский', 'Северный Кавказский', 'Северо-Западный', 'Сибирский', 'Уральский', 'Центральный', 'Южный']]\n",
    "y = df_final['fertility']\n",
    "\n",
    "np.random.seed(1)\n",
    "X_train, X_test, y_train, y_test = train_test_split(X, y, test_size=0.2)\n",
    "\n",
    "second_model.fit(X_train, y_train)\n",
    "\n",
    "y_pred = second_model.predict(X_test)\n",
    "y_train_pred = second_model.predict(X_train)"
   ]
  },
  {
   "cell_type": "code",
   "execution_count": 377,
   "id": "2e796d12",
   "metadata": {},
   "outputs": [
    {
     "name": "stdout",
     "output_type": "stream",
     "text": [
      "MAPE: 0.08723986451526487\n",
      "MSE: 0.03829572435809744\n",
      "R2: 0.49390917321926187\n"
     ]
    }
   ],
   "source": [
    "print('MAPE:', mean_absolute_percentage_error(y_test, y_pred))\n",
    "print('MSE:', mean_squared_error(y_test, y_pred))\n",
    "print('R2:', r2_score(y_test, y_pred))"
   ]
  },
  {
   "cell_type": "markdown",
   "id": "a75ebfb2",
   "metadata": {},
   "source": [
    "Значения степеней, в которые мы возвели 6 числовых показателей-признаков, были взяты в соответствии с принципом максимизации r2_score. Метрики этой модели приведены выше."
   ]
  },
  {
   "cell_type": "markdown",
   "id": "99224ba6",
   "metadata": {},
   "source": [
    "Теперь нормализуем данные:"
   ]
  },
  {
   "cell_type": "code",
   "execution_count": 378,
   "id": "bd29aa82",
   "metadata": {},
   "outputs": [],
   "source": [
    "X_train = preprocessing.normalize(X_train)\n",
    "X_test = preprocessing.normalize(X_test)"
   ]
  },
  {
   "cell_type": "markdown",
   "id": "b41e4526",
   "metadata": {},
   "source": [
    "Создадим модель для новых нормализованных признаков и посчитаем новые метрики:"
   ]
  },
  {
   "cell_type": "code",
   "execution_count": 379,
   "id": "e73164e4",
   "metadata": {},
   "outputs": [],
   "source": [
    "third_model = LinearRegression()\n",
    "\n",
    "third_model.fit(X_train, y_train)\n",
    "\n",
    "y_pred = third_model.predict(X_test)\n",
    "y_train_pred = third_model.predict(X_train)"
   ]
  },
  {
   "cell_type": "code",
   "execution_count": 380,
   "id": "fb39c1d2",
   "metadata": {},
   "outputs": [
    {
     "name": "stdout",
     "output_type": "stream",
     "text": [
      "MAPE: 0.08658580212770295\n",
      "MSE: 0.03599403887103503\n",
      "R2: 0.5243267180147121\n"
     ]
    }
   ],
   "source": [
    "print('MAPE:', mean_absolute_percentage_error(y_test, y_pred))\n",
    "print('MSE:', mean_squared_error(y_test, y_pred))\n",
    "print('R2:', r2_score(y_test, y_pred))"
   ]
  },
  {
   "cell_type": "markdown",
   "id": "8ba9dd37",
   "metadata": {},
   "source": [
    "Нормализация данных дала положительный результат. R2 вырос, MAPE u MSE упали"
   ]
  },
  {
   "cell_type": "code",
   "execution_count": 381,
   "id": "8b9ae41b",
   "metadata": {},
   "outputs": [
    {
     "data": {
      "text/plain": [
       "([45344857.006263494,\n",
       "  12858.061945121115,\n",
       "  64755.13459377518,\n",
       "  -4442.278907719607,\n",
       "  20177.165677725956,\n",
       "  -5255.013857580127,\n",
       "  -23699.120729688886,\n",
       "  -22875.302890679486,\n",
       "  -25373.08423298744,\n",
       "  -26493.79536375789,\n",
       "  -22821.735475896498,\n",
       "  -21833.142797125958,\n",
       "  -24614.248471379036,\n",
       "  -25482.903627709453],\n",
       " -45344855.37608198)"
      ]
     },
     "execution_count": 381,
     "metadata": {},
     "output_type": "execute_result"
    }
   ],
   "source": [
    "list(third_model.coef_), third_model.intercept_"
   ]
  },
  {
   "cell_type": "markdown",
   "id": "3d1efda8",
   "metadata": {},
   "source": [
    "#### Итого, наша модель линейной регрессии имеет следующий вид:\n",
    "$\n",
    "fert. = -45344855 + 12858 * inc. + 64755 * \\sqrt{unempl.} - 4442 * pov^2. + 20177 * \\sqrt{IGR} - 5255 * UGR - \n",
    "23699 * PGR - 22875 (ДВ) -25373 (Приволж.)\n",
    "        -26493 (Кавказс.) -22821 (Сев. Зап.) -21833 (Сиб.) -24614 (Урал.)\n",
    "        -2414 (Центр.) -25482 (Юж.)\n",
    "$\n",
    "\n",
    ", где числовые признаки нормализованы, а качественные признаки принимают значения либо 0, либо 1\n",
    "\n"
   ]
  },
  {
   "cell_type": "markdown",
   "id": "9e4c5fe9",
   "metadata": {},
   "source": [
    "Значение MAPE в 8,6% свидетельствует об относительно низком смещении ошибки. Коэффициент детерминации показывает,что полученная модель может объяснить чуть больше половины результатов."
   ]
  },
  {
   "cell_type": "markdown",
   "id": "2ffc1686",
   "metadata": {},
   "source": [
    "### Регрессия случайного леса"
   ]
  },
  {
   "cell_type": "markdown",
   "id": "1c8ab81e",
   "metadata": {},
   "source": [
    "Опять начнем с самой простой модели"
   ]
  },
  {
   "cell_type": "code",
   "execution_count": 383,
   "id": "1083cb76",
   "metadata": {},
   "outputs": [
    {
     "name": "stdout",
     "output_type": "stream",
     "text": [
      "r2: 0.9985885418414465\n",
      "mape: 0.0024279074745661325\n"
     ]
    }
   ],
   "source": [
    "X = new_df[set(new_df.columns) - set('fertility')]\n",
    "y = new_df['fertility']\n",
    "\n",
    "X_train, X_test, y_train, y_test = train_test_split(X, y, test_size=0.2, random_state=2)\n",
    "\n",
    "model_rf = RandomForestRegressor(n_estimators=100, random_state=1)\n",
    "model_rf.fit(X_train, y_train)\n",
    "\n",
    "y_pred = model_rf.predict(X_test)\n",
    "print('r2:', r2_score(y_test, y_pred))\n",
    "print('mape:', mean_absolute_percentage_error(y_test, y_pred))\n",
    "\n"
   ]
  },
  {
   "cell_type": "markdown",
   "id": "14edfae1",
   "metadata": {},
   "source": [
    "### Выводы:"
   ]
  },
  {
   "cell_type": "markdown",
   "id": "da95d14d",
   "metadata": {},
   "source": [
    "Для построения предсказывающей модели мы построили две регрессионные модели: линейную и случайного леса.\n",
    "\n",
    "Линейная регрессия справилась со своей задачей, с одной стороны, неплохо: MAPE оказалась равной всего 8,6%, но, с другой стороны, предсказываемое значение рождаемости статично и неволатильно, поэтому смещение его оценки на 8,6% очень значимо.\n",
    "\n",
    "Модель регрессии случайного леса показала неожиданный результат: MAPE оказалась равна 0.24%, а коэффициент детерминации - почти 1. Это означает, что модель крайне точно предсказывает коэффициент рождаемости по заданным социо-экономическим параметрам"
   ]
  }
 ],
 "metadata": {
  "kernelspec": {
   "display_name": "Python 3 (ipykernel)",
   "language": "python",
   "name": "python3"
  },
  "language_info": {
   "codemirror_mode": {
    "name": "ipython",
    "version": 3
   },
   "file_extension": ".py",
   "mimetype": "text/x-python",
   "name": "python",
   "nbconvert_exporter": "python",
   "pygments_lexer": "ipython3",
   "version": "3.9.0"
  }
 },
 "nbformat": 4,
 "nbformat_minor": 5
}
